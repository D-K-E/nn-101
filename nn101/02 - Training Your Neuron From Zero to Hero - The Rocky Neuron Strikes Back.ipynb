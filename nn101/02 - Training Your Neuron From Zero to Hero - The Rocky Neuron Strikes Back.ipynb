{
 "cells": [
  {
   "cell_type": "markdown",
   "id": "military-council",
   "metadata": {},
   "source": [
    "# Neural Networks from Scratch - 02 - From Zero to Hero: The Rocky Neuron Strikes Back!\n",
    "\n",
    "This tutorial is about hard work, training and perseverance folks, so you better make some coffee and prepare those cookies.\n",
    "\n",
    "In this tutorial we are going to cover how to train a neural network from scratch.\n",
    "First let's import the necessary packages"
   ]
  },
  {
   "cell_type": "code",
   "execution_count": 26,
   "id": "capable-amateur",
   "metadata": {},
   "outputs": [],
   "source": [
    "import numpy as np\n",
    "from typing import Callable, List, Tuple, Set\n",
    "import matplotlib.pyplot as plt"
   ]
  },
  {
   "cell_type": "markdown",
   "id": "reserved-contamination",
   "metadata": {},
   "source": [
    "There should be nothing unsual going on there.\n",
    "The next cell contains more interesting stuff. \n",
    "If you have no idea what's going on there, please look at the [first tutorial](https://github.com/D-K-E/nn-101/blob/master/nn101/01%20-%20A%20Tiny%20Neuron%20is%20Born%20in%20a%20Cookie%20Night.ipynb).\n",
    "Those are structures defined in the first tutorial. \n",
    "They are basically what we'll be training. "
   ]
  },
  {
   "cell_type": "code",
   "execution_count": 42,
   "id": "related-relief",
   "metadata": {},
   "outputs": [],
   "source": [
    "def delta(f,x, h=1e-8): \n",
    "    fx_h = f(x+h)\n",
    "    f_x = f(x)\n",
    "    diff = fx_h - f_x\n",
    "    return diff / h\n",
    "\n",
    "def jacobian(f: Callable[[np.ndarray], np.ndarray], \n",
    "                args: np.ndarray, h=1e-8) -> np.ndarray:\n",
    "    \"\"\"\n",
    "    Compute jacobian with numpy\n",
    "    \"\"\"\n",
    "    result = f(args)\n",
    "    j_mat = np.zeros((*args.shape, *result.shape), dtype=np.float)\n",
    "    for index in np.ndindex(args.shape):\n",
    "        narg = args.copy()\n",
    "        narg[index] += h\n",
    "        j_mat[index] = (f(narg) - f(args)) / h\n",
    "    return j_mat.reshape((result.size, args.size))"
   ]
  },
  {
   "cell_type": "code",
   "execution_count": 43,
   "id": "executive-ivory",
   "metadata": {},
   "outputs": [],
   "source": [
    "class AbstractComputation:\n",
    "    def __init__(self):\n",
    "        self.args = None\n",
    "        \n",
    "    def result(self, arg: np.ndarray):\n",
    "        raise NotImplemented\n",
    "        \n",
    "    def delta(self):\n",
    "        raise NotImplemented\n",
    "        \n",
    "    @property\n",
    "    def output(self):\n",
    "        raise NotImplemented\n",
    "        \n",
    "    @property\n",
    "    def d(self):\n",
    "        raise NotImplemented\n",
    "        \n",
    "class Computation(AbstractComputation):\n",
    "    def __init__(self, inpt=None, function=lambda x: x):\n",
    "        super().__init__()\n",
    "        self.args = inpt\n",
    "        self.f = function\n",
    "        \n",
    "    def __str__(self):\n",
    "        return (\"Computation Node:\\nInput: \" \n",
    "                + str(self.args.shape) \n",
    "                + \"\\nOutput:\" + str(self.output)\n",
    "                + \"\\nFunction\" + str(self.f)\n",
    "               )\n",
    "    @property\n",
    "    def output(self):\n",
    "        return self.compute()\n",
    "    \n",
    "    @property\n",
    "    def d(self):\n",
    "        return jacobian(f=self.f, args=self.args)\n",
    "        \n",
    "    def result(self, arg):\n",
    "        return self.f(arg)\n",
    "    \n",
    "    def compute(self):\n",
    "        res = self.result(arg=self.args)\n",
    "        return res.copy()"
   ]
  },
  {
   "cell_type": "code",
   "execution_count": 45,
   "id": "radio-situation",
   "metadata": {},
   "outputs": [],
   "source": [
    "class Layer(AbstractComputation):\n",
    "    def __init__(self, flst: List[Callable[[np.ndarray], np.ndarray]], \n",
    "                 arg: np.ndarray):\n",
    "        \"Genel hesap katmani (layer)\"\n",
    "        self.args = arg\n",
    "        self.computations = [Computation(function=f) for f in flst]\n",
    "        self.is_computed = False\n",
    "        \n",
    "    def compute(self):\n",
    "        previous = self.args.copy()\n",
    "        current = self.computations[0]\n",
    "        current.args = previous\n",
    "        for n in self.computations[1:]:\n",
    "            n.args = current.output\n",
    "            current = n\n",
    "        self.is_computed = True\n",
    "        \n",
    "    def compute_until(self, limit: int):\n",
    "        \"\"\"\n",
    "        \"\"\"\n",
    "        if limit > len(self.computations):\n",
    "            raise ValueError(\n",
    "                \"Limit out of bounds for available number of computations \" + str(limit)\n",
    "                + \" limit \" + str(len(self.computations))\n",
    "            )\n",
    "        ns = self.computations[:limit]\n",
    "        previous_args = self.args.copy()\n",
    "        current = ns[0]\n",
    "        current.args = previous_args\n",
    "        for n in ns[1:]:\n",
    "            n.args = current.output\n",
    "            current = n\n",
    "        return ns\n",
    "    \n",
    "    def compute_until_with_arg(self, limit: int, args: np.ndarray):\n",
    "        \"\"\"\n",
    "        \"\"\"\n",
    "        if limit > len(self.computations):\n",
    "            raise ValueError(\n",
    "                \"Limit out of bounds for available number of computations \" + str(limit)\n",
    "                + \" limit \" + str(len(self.computations))\n",
    "            )\n",
    "        ns = self.computations[:limit]\n",
    "        previous_args = args.copy()\n",
    "        current = ns[0]\n",
    "        current.args = previous_args\n",
    "        for n in ns[1:]:\n",
    "            n.args = current.output\n",
    "            current = n\n",
    "        return ns\n",
    "    \n",
    "    def delta_from(self, start: int):\n",
    "        \"\"\"\n",
    "        \"\"\"\n",
    "        self.compute()\n",
    "        if start >= len(self.computations):\n",
    "            raise ValueError(\"Start out of bounds \" + str(start) +\" number of \"+\n",
    "                            \" computations: \"+ str(len(self.computations)))\n",
    "        current = self.computations[start]\n",
    "        current_d = current.d\n",
    "        for n in self.computations[start+1:]:\n",
    "            d = n.d\n",
    "            current_d = np.matmul(d,current_d)\n",
    "        return current_d\n",
    "            \n",
    "    @property\n",
    "    def output(self):\n",
    "        self.compute()\n",
    "        return self.computations[-1].output\n",
    "    \n",
    "    @property\n",
    "    def delta_backwards(self):\n",
    "        \"backward accumulation of derivative\"\n",
    "        self.compute()\n",
    "        reversed_cs = list(reversed(self.computations))\n",
    "        last = reversed_cs[0]\n",
    "        ld = last.d\n",
    "        for n in reversed_cs[1:]:\n",
    "            d = n.d\n",
    "            ld = np.matmul(ld, d)\n",
    "        return ld\n",
    "    \n",
    "    @property\n",
    "    def delta(self):\n",
    "        \"forward accumulation of derivative\"\n",
    "        return self.delta_from(start=0)"
   ]
  },
  {
   "cell_type": "code",
   "execution_count": 46,
   "id": "monthly-spanish",
   "metadata": {},
   "outputs": [],
   "source": [
    "class LinearRegressionLayer(Layer):\n",
    "    def __init__(self, arg: np.ndarray):\n",
    "        \"\"\n",
    "        self.mx = np.random.randn(*arg.shape)\n",
    "        self.b = np.zeros_like(self.mx)\n",
    "        def m_x(x: np.ndarray): return x * self.mx\n",
    "        def b_x(x: np.ndarray): return x + self.b\n",
    "        def mx_b(x: np.ndarray): return b_x(m_x(x))\n",
    "        super().__init__(flst=[m_x, b_x], arg=arg.copy())\n",
    "        \n",
    "    @property\n",
    "    def predict(self):\n",
    "        \"\"\"\n",
    "        y = mx + b = f(x)\n",
    "        y = f(x)\n",
    "        mx = M(x)\n",
    "        +b = B(x)\n",
    "        f(x) = B(M(x)) = mx + b\n",
    "        \"\"\"\n",
    "        return self.output"
   ]
  },
  {
   "cell_type": "markdown",
   "id": "included-statistics",
   "metadata": {},
   "source": [
    "## What is Training ? Why bother all the work ?\n",
    "\n",
    "Now if we are talking about `training` a neural network, a reasonable question is,\n",
    "what do we mean by training. \n",
    "How do you `train` a mathematical structure anyway ??\n",
    "\n",
    "Let's say you are like me, and thus suck at basketball, so instead of standing outside the 3 pointer field, you enter into it, and instead of facing towards the basket you face towards your friends rooting for you, and upon seeing some random guy breaking into your car, you fling the ball towards car park with all your might.\n",
    "\n",
    "How would you correct this person ? He surely has his own reasons to behave that way. \n",
    "The first thing you would say to this person to correct his mistake would be, throwing the ball towards the basket at all costs, since without that there is no hope of scoring.\n",
    "Then you would say, in order to score a 3 pointer you need to stand outside of the 3 pointer field. \n",
    "Then you would teach him to apply the correct force.\n",
    "\n",
    "Let's try to formalize this.\n",
    "Grossly speaking you have about 4 parameters:\n",
    "\n",
    "- Ball's direction: BD\n",
    "- Your force: YF\n",
    "- Your distance to basket: YdB\n",
    "\n",
    "You also have a single input:\n",
    "\n",
    "- Ball: b\n",
    "\n",
    "A 3 pointer, $TP: \\mathbb{R}^n \\to {0, 1}$, would be something like:$TP(b) = YF(YdB(BD(b)))$.\n",
    "\n",
    "How do we express formally the notion of correcting the functions that make up the $TP$ ?\n",
    "\n",
    "One way of doing is to do some random change, and to observe its effect on the output. \n",
    "Basically, you say \"Face towards the basket, apply a little more force to your arms\", then you check whether the person scored or not.\n",
    "If it did not work, you say \"Apply a little more force, and target the square\", and then you check again whether the person scored or not.\n",
    "\n",
    "Basically, you don't change the ball, you don't change the position of the basket, but you try to rearrange parameters that contribute to the functions contituting the $TP$ function."
   ]
  },
  {
   "cell_type": "markdown",
   "id": "demonstrated-operator",
   "metadata": {},
   "source": [
    "Now how do you do that with actual mathematical functions ?\n",
    "\n",
    "We already now how to measure how much the change in the input is reflected in the output thanks to our coverage of derivatives in the [first tutorial](https://github.com/D-K-E/nn-101/blob/master/nn101/01%20-%20A%20Tiny%20Neuron%20is%20Born%20in%20a%20Cookie%20Night.ipynb)\n",
    "\n",
    "Now we can observe the change, yes, but how do we interpret that change? \n",
    "How do we drive the parameters of the functions that compose our $TP$ function towards values that permit us to score a 3 pointer?"
   ]
  },
  {
   "cell_type": "markdown",
   "id": "continent-parker",
   "metadata": {},
   "source": [
    "Notice that we have two moments to discuss:\n",
    "- Interpret the change\n",
    "- Drive the values towards positive change\n",
    "\n",
    "Roughly speaking the first one is about how far we are from the result we want to achieve, and the second one is about optimizing our existing ressources with respect to a certain goal.\n",
    "\n",
    "The interpretation of change is done by what statisticians call a `cost` function.\n",
    "Depending on the context of application having a high cost or a low cost can be interpreted as positive change.\n",
    "\n",
    "Let's say in our example we want to have the lowest cost possible, that is we want to make sure that the value we compute is as close as possible to our goal.\n",
    "\n",
    "As per optimization we need to deal with a tiny bit of math to understand how we are going to do it.\n",
    "\n",
    "So here it is."
   ]
  },
  {
   "cell_type": "markdown",
   "id": "completed-aging",
   "metadata": {},
   "source": [
    "TODO: FINISH\n",
    "\n",
    "$F(X)$ where $X = {x_1, x_2, x_3, \\dots, x_n}$, \n",
    "\n",
    "$$F: \\mathbb{R}^n \\to \\mathbb{R}^m$$\n",
    "\n",
    "$$F(x_1) \\ge F(x_2) \\ge F(x_3) \\ge \\dots$$\n",
    "\n",
    "$$X_{n+1} = X_n - \\eta \\nabla(F(X_n))$$\n",
    "\n",
    "$$\\eta (\\lim_{h \\to 0} \\frac{F(X_n + h) - F(X_n)}{h}) = X_n - X_{n+1}$$\n",
    "\n"
   ]
  },
  {
   "cell_type": "code",
   "execution_count": 48,
   "id": "secret-frontier",
   "metadata": {},
   "outputs": [
    {
     "name": "stdout",
     "output_type": "stream",
     "text": [
      "value of fn:  650.0\n",
      "minimum value:  2.249660012770377\n",
      "last value: -6.5429675798737\n",
      "check value 1.9572010269597058\n"
     ]
    }
   ],
   "source": [
    "def fn(x): \n",
    "    return (x**4) - 3 * (x**3) + 2\n",
    "\n",
    "\n",
    "some_x = 6.0\n",
    "step = 0.01\n",
    "precision = 0.0001\n",
    "\n",
    "print(\"value of fn: \", fn(some_x))\n",
    "\n",
    "# X_{n+1} = X_n - eta * f'(X_n)\n",
    "for i in range(1000):\n",
    "    f_x = some_x\n",
    "    some_x = f_x - step * delta(fn, f_x)\n",
    "    if abs(some_x - f_x) <= precision:\n",
    "        break\n",
    "\n",
    "print(\"minimum value: \", some_x)\n",
    "print(\"last value:\", fn(some_x))\n",
    "print(\"check value\", fn(some_x - 2))"
   ]
  },
  {
   "cell_type": "code",
   "execution_count": 152,
   "id": "secret-delta",
   "metadata": {},
   "outputs": [],
   "source": [
    "def decrease_derivative(x: float, \n",
    "                        f: Callable[[float], float],\n",
    "                        step=0.01,\n",
    "                        precision=0.0001,\n",
    "                        iteration_nb=1000\n",
    "                       ):\n",
    "    results = []\n",
    "    for i in range(iteration_nb):\n",
    "        f_x = x\n",
    "        x = f_x - step * delta(f, f_x)\n",
    "        results.append((x, f(x)))\n",
    "        if abs(x - f_x) <= precision:\n",
    "            break\n",
    "    return results        "
   ]
  },
  {
   "cell_type": "code",
   "execution_count": 153,
   "id": "stretch-chester",
   "metadata": {},
   "outputs": [],
   "source": [
    "def show_results(results):\n",
    "    arr = np.array(results, dtype=np.float)\n",
    "    fig, axes = plt.subplots(nrows=1, ncols=2)\n",
    "    axes[0].set_title('input', color=\"y\")\n",
    "    axes[0].plot(arr[:, 0], \"r\")\n",
    "    axes[1].set_title(\"output\", color=\"y\")\n",
    "    axes[1].plot(arr[:, 1], \"g\")\n",
    "    plt.show()"
   ]
  },
  {
   "cell_type": "code",
   "execution_count": 154,
   "id": "maritime-tucson",
   "metadata": {},
   "outputs": [
    {
     "data": {
      "image/png": "[encoded data removed]",
      "text/plain": [
       "<Figure size 432x288 with 2 Axes>"
      ]
     },
     "metadata": {
      "needs_background": "light"
     },
     "output_type": "display_data"
    }
   ],
   "source": [
    "results = decrease_derivative(x=6, f=fn)\n",
    "show_results(results)"
   ]
  },
  {
   "cell_type": "code",
   "execution_count": 180,
   "id": "english-burke",
   "metadata": {},
   "outputs": [],
   "source": [
    "def decrease_derivative_layer(\n",
    "    inputs: np.ndarray,\n",
    "    targets: np.ndarray,\n",
    "    layer: Layer,\n",
    "    step=0.01,\n",
    "    precision=0.0001,\n",
    "    iteration_nb=1000\n",
    "):\n",
    "    \"\"\n",
    "    ins = inputs.copy()\n",
    "    outs = targets.copy()\n",
    "    layer_instance = layer(args=ins, targets=outs)\n",
    "    ms = []\n",
    "    bs = []\n",
    "    outputs = []\n",
    "    input_s = []\n",
    "    for i in range(iteration_nb):\n",
    "        mx = layer_instance.m\n",
    "        b = layer_instance.b\n",
    "        layer_delta = layer_instance.delta\n",
    "        #\n",
    "        \n",
    "        layer_d = layer_delta.reshape(*ins.shape)\n",
    "        new_mx = mx + step * layer_d\n",
    "        output = layer_instance.output\n",
    "        new_b = b + step * (layer_instance.targets - output)\n",
    "        layer_instance.m = new_mx\n",
    "        layer_instance.b = new_b\n",
    "        ms.append(mx)\n",
    "        bs.append(b)\n",
    "        outputs.append(output)\n",
    "        input_s.append(layer_instance.computations[-1].args)\n",
    "        if abs(new_mx.sum()) <= precision:\n",
    "            break\n",
    "        elif abs(new_b.sum()) <= precision:\n",
    "            break\n",
    "    return layer_instance, np.array(ms), np.array(bs), outputs, input_s"
   ]
  },
  {
   "cell_type": "code",
   "execution_count": 181,
   "id": "sudden-velvet",
   "metadata": {},
   "outputs": [],
   "source": [
    "class BinaryProbLayer(Layer):\n",
    "    def __init__(self, args, targets):\n",
    "        #self.args = args\n",
    "        self.targets = targets\n",
    "        self.m = np.random.uniform(0, 1, size=args.shape)\n",
    "        self.b = np.random.randn(*targets.shape)\n",
    "        # f: R^n \\to R^m\n",
    "        # f: mx + b\n",
    "        # f: b(m(x))\n",
    "        # f(x) = m * x + b\n",
    "        super().__init__(flst=[self.score, self.sigmoid, self.cost], arg=args.copy())\n",
    "    \n",
    "    def score(self, x: np.ndarray):\n",
    "        return np.dot(x, self.m.T) + self.b\n",
    "    \n",
    "    def cost(self, x: np.ndarray):\n",
    "        \"\"\"\n",
    "        http://ufldl.stanford.edu/tutorial/supervised/LogisticRegression/\n",
    "        https://en.wikipedia.org/wiki/Cross_entropy\n",
    "        \"\"\"\n",
    "        ins = self.targets.dot(np.log(x))\n",
    "        others = (1 - self.targets).dot(np.log(1.0 - x))\n",
    "        return -1 * (ins + others).sum() / others.size \n",
    "    \n",
    "    def sigmoid(self, x):\n",
    "        return np.exp(x) / (1 + np.exp(x))\n",
    "    \n",
    "    def predict(self, x):\n",
    "        p = self.sigmoid(self.score(x))\n",
    "        p = np.interp(p, [0.5, 1], [0, 1])\n",
    "        return 0 if p.max() <= 0.5 else 1"
   ]
  },
  {
   "cell_type": "code",
   "execution_count": 182,
   "id": "matched-museum",
   "metadata": {},
   "outputs": [],
   "source": [
    "# https://en.wikipedia.org/wiki/Logistic_regression\n",
    "work_hours = [0.50, 0.75, 1.00,\n",
    "                 1.25, 1.50, 1.75,\n",
    "                 1.75, 2.00, 2.25,\n",
    "                 2.50, 2.75, 3.00,\n",
    "                 3.25, 3.50, 4.00,\n",
    "                 4.25, 4.50, 4.75,\n",
    "                 5.00, 5.50]\n",
    "\n",
    "exam_result = [0, 0, 0, \n",
    "                0, 0, 0,\n",
    "                1, 0, 1,\n",
    "                0, 1, 0,\n",
    "                1, 0, 1,\n",
    "                1, 1, 1,\n",
    "                1, 1]"
   ]
  },
  {
   "cell_type": "code",
   "execution_count": 183,
   "id": "understood-finish",
   "metadata": {},
   "outputs": [],
   "source": [
    "results = (layer, ms, bs, outputs, input_s) = decrease_derivative_layer(\n",
    "    inputs=np.array([np.array([w]) for w in work_hours], dtype=np.float),\n",
    "    targets=np.array([np.array(x) for x in exam_result], dtype=np.float),\n",
    "    layer=BinaryProbLayer,\n",
    "    step=0.01,\n",
    "    precision=0.0001,\n",
    "    iteration_nb=10\n",
    ")"
   ]
  },
  {
   "cell_type": "code",
   "execution_count": 184,
   "id": "smaller-remark",
   "metadata": {},
   "outputs": [
    {
     "data": {
      "text/plain": [
       "1"
      ]
     },
     "execution_count": 184,
     "metadata": {},
     "output_type": "execute_result"
    }
   ],
   "source": [
    "layer.predict(x=np.array(3.60))"
   ]
  },
  {
   "cell_type": "code",
   "execution_count": 185,
   "id": "intimate-childhood",
   "metadata": {},
   "outputs": [],
   "source": [
    "def show_train_result(index, results, interval, start):\n",
    "    fig, axes = plt.subplots(nrows = 2, ncols = 2)\n",
    "    layer_instance, ms, bs, outputs, input_s = results\n",
    "    axes[0, 0].set_title(\"slopes\", color=\"r\")\n",
    "    axes[0, 0].plot(ms[start:start+interval, index], 'r')\n",
    "    axes[0, 0].set_xticks(range(start, start+interval, 10))\n",
    "    # intercept\n",
    "    axes[0, 1].set_title('intercept', color=\"g\")\n",
    "    axes[0, 1].plot(bs[start:start+interval, index], \"g\")\n",
    "    \n",
    "    # outputs\n",
    "    axes[1, 0].set_title(\"outputs\", color=\"y\")\n",
    "    axes[1, 0].set_xticks(range(start, start+interval, 10))\n",
    "    axes[1, 0].plot(outputs[start:start+interval], \"black\")\n",
    "    \n",
    "    # inputs\n",
    "    axes[1, 1].set_title(\"inputs\", color=\"blue\")\n",
    "    axes[1, 1].set_xticks(range(start, start+interval, 10))\n",
    "    #print(input_s)\n",
    "    axes[1, 1].plot(input_s[0][start:start+interval, index], \"blue\")\n",
    "    plt.tight_layout(True)\n",
    "    plt.show()\n",
    "    "
   ]
  },
  {
   "cell_type": "code",
   "execution_count": null,
   "id": "bigger-triumph",
   "metadata": {},
   "outputs": [],
   "source": []
  },
  {
   "cell_type": "code",
   "execution_count": null,
   "id": "former-saskatchewan",
   "metadata": {},
   "outputs": [],
   "source": []
  },
  {
   "cell_type": "code",
   "execution_count": 186,
   "id": "expensive-thirty",
   "metadata": {},
   "outputs": [
    {
     "data": {
      "image/png": "[encoded data removed]",
      "text/plain": [
       "<Figure size 432x288 with 4 Axes>"
      ]
     },
     "metadata": {
      "needs_background": "light"
     },
     "output_type": "display_data"
    }
   ],
   "source": [
    "show_train_result(index=0, results=results, interval=30, start=0)"
   ]
  },
  {
   "cell_type": "code",
   "execution_count": null,
   "id": "olympic-audience",
   "metadata": {},
   "outputs": [],
   "source": []
  },
  {
   "cell_type": "code",
   "execution_count": null,
   "id": "functioning-population",
   "metadata": {},
   "outputs": [],
   "source": []
  }
 ],
 "metadata": {
  "kernelspec": {
   "display_name": "Python 3",
   "language": "python",
   "name": "python3"
  },
  "language_info": {
   "codemirror_mode": {
    "name": "ipython",
    "version": 3
   },
   "file_extension": ".py",
   "mimetype": "text/x-python",
   "name": "python",
   "nbconvert_exporter": "python",
   "pygments_lexer": "ipython3",
   "version": "3.7.10"
  }
 },
 "nbformat": 4,
 "nbformat_minor": 5
}
